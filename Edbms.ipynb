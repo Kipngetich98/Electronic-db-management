{
 "cells": [
  {
   "cell_type": "code",
   "execution_count": null,
   "metadata": {},
   "outputs": [],
   "source": [
    "#import the neccessary libraries\n",
    "import math\n",
    "import os\n",
    "import pandas as pd\n",
    "import sqlite3"
   ]
  },
  {
   "cell_type": "code",
   "execution_count": null,
   "metadata": {},
   "outputs": [],
   "source": [
    "#list of items on the on the system\n",
    "book = []\n",
    "cd = []\n",
    "photographs = []\n",
    "journals = []\n",
    "\n",
    "#Verify the user for acces\n",
    "class User_validation():\n",
    "    def welcome():\n",
    "        name = input(\"Name: \")\n",
    "        print(\"Hello, Welcome..\")\n",
    "        \n",
    "        \n",
    "#veryfy the bibliography data\n",
    "\n",
    "    def bibliography(self, book, cd, photograpghs, journals):\n",
    "        self.book = book\n",
    "        self.cd = cd\n",
    "        self.photographs = photographs\n",
    "        self.journals = journals\n",
    "        feedback  =\"\"\n",
    "        while feedback != exit:\n",
    "            if feedback == \"book\":\n",
    "                book = input(\"Enter the title of the book\")\n",
    "                print(title,\"Saved !\")\n",
    "            elif feedback == \"cd\":\n",
    "                name = str(input(\"Enter the Name of the cd\"))\n",
    "                print(name,+\"Succesfully save!\")\n",
    "            elif feedback == \"photographs\":\n",
    "                collage = str(input(\"enter the album\"))\n",
    "                print(\"saving...\")\n",
    "                print(\"saved!\")\n",
    "            elif feedback == \"journals\":\n",
    "                publiser = str(input(\"Enter the publication details\"))\n",
    "                print(\"the journal \" + publiser, \"Saved successfully\")\n",
    "                \n",
    "User_validation()"
   ]
  },
  {
   "cell_type": "code",
   "execution_count": null,
   "metadata": {},
   "outputs": [],
   "source": [
    "\n",
    "#create a dictionary for the input\n",
    "store = {}\n",
    "store = {1: 'book', 2: 'cd', 3: 'photographs', 4:'journal'}\n",
    "store\n"
   ]
  },
  {
   "cell_type": "code",
   "execution_count": null,
   "metadata": {},
   "outputs": [],
   "source": [
    "df = pd.DataFrame({'book': [book], 'cd': [cd], 'photographs':[photographs],'journals':[journals]})"
   ]
  },
  {
   "cell_type": "code",
   "execution_count": null,
   "metadata": {},
   "outputs": [],
   "source": [
    "df"
   ]
  }
 ],
 "metadata": {
  "interpreter": {
   "hash": "31f2aee4e71d21fbe5cf8b01ff0e069b9275f58929596ceb00d14d90e3e16cd6"
  },
  "kernelspec": {
   "display_name": "Python 3.8.10 64-bit",
   "language": "python",
   "name": "python3"
  },
  "language_info": {
   "codemirror_mode": {
    "name": "ipython",
    "version": 3
   },
   "file_extension": ".py",
   "mimetype": "text/x-python",
   "name": "python",
   "nbconvert_exporter": "python",
   "pygments_lexer": "ipython3",
   "version": "3.8.10"
  },
  "orig_nbformat": 4
 },
 "nbformat": 4,
 "nbformat_minor": 2
}
